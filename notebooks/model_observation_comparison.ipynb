{
 "cells": [
  {
   "cell_type": "markdown",
   "metadata": {},
   "source": [
    "Let's start here! If you can directly link to an image relevant to your notebook, such as [canonical logos](https://github.com/numpy/numpy/blob/main/doc/source/_static/numpylogo.svg), do so here at the top of your notebook. You can do this with Markdown syntax,\n",
    "\n",
    "> `![<image title>](http://link.com/to/image.png \"image alt text\")`\n",
    "\n",
    "or edit this cell to see raw HTML `img` demonstration. This is preferred if you need to shrink your embedded image. **Either way be sure to include `alt` text for any embedded images to make your content more accessible.**\n",
    "\n",
    "<img src=\"images/ProjectPythia_Logo_Final-01-Blue.svg\" width=250 alt=\"Project Pythia Logo\"></img>"
   ]
  },
  {
   "cell_type": "markdown",
   "metadata": {},
   "source": [
    "# Project Pythia Notebook Template\n",
    "\n",
    "Next, title your notebook appropriately with a top-level Markdown header, `#`. Do not use this level header anywhere else in the notebook. Our book build process will use this title in the navbar, table of contents, etc. Keep it short, keep it descriptive. Follow this with a `---` cell to visually distinguish the transition to the prerequisites section."
   ]
  },
  {
   "cell_type": "markdown",
   "metadata": {},
   "source": [
    "---"
   ]
  },
  {
   "cell_type": "markdown",
   "metadata": {},
   "source": [
    "## Overview\n",
    "If you have an introductory paragraph, lead with it here! Keep it short and tied to your material, then be sure to continue into the required list of topics below,\n",
    "\n",
    "1. This is a numbered list of the specific topics\n",
    "1. These should map approximately to your main sections of content\n",
    "1. Or each second-level, `##`, header in your notebook\n",
    "1. Keep the size and scope of your notebook in check\n",
    "1. And be sure to let the reader know up front the important concepts they'll be leaving with"
   ]
  },
  {
   "cell_type": "markdown",
   "metadata": {},
   "source": [
    "## Prerequisites\n",
    "This section was inspired by [this template](https://github.com/alan-turing-institute/the-turing-way/blob/master/book/templates/chapter-template/chapter-landing-page.md) of the wonderful [The Turing Way](https://the-turing-way.netlify.app) Jupyter Book.\n",
    "\n",
    "Following your overview, tell your reader what concepts, packages, or other background information they'll **need** before learning your material. Tie this explicitly with links to other pages here in Foundations or to relevant external resources. Remove this body text, then populate the Markdown table, denoted in this cell with `|` vertical brackets, below, and fill out the information following. In this table, lay out prerequisite concepts by explicitly linking to other Foundations material or external resources, or describe generally helpful concepts.\n",
    "\n",
    "Label the importance of each concept explicitly as **helpful/necessary**.\n",
    "\n",
    "| Concepts | Importance | Notes |\n",
    "| --- | --- | --- |\n",
    "| [Intro to Cartopy](https://foundations.projectpythia.org/core/cartopy/cartopy.html) | Necessary | |\n",
    "| [Understanding of NetCDF](https://foundations.projectpythia.org/core/data-formats/netcdf-cf.html) | Helpful | Familiarity with metadata structure |\n",
    "| Project management | Helpful | |\n",
    "\n",
    "- **Time to learn**: estimate in minutes. For a rough idea, use 5 mins per subsection, 10 if longer; add these up for a total. Safer to round up and overestimate.\n",
    "- **System requirements**:\n",
    "    - Populate with any system, version, or non-Python software requirements if necessary\n",
    "    - Otherwise use the concepts table above and the Imports section below to describe required packages as necessary\n",
    "    - If no extra requirements, remove the **System requirements** point altogether"
   ]
  },
  {
   "cell_type": "markdown",
   "metadata": {},
   "source": [
    "---"
   ]
  },
  {
   "cell_type": "markdown",
   "metadata": {},
   "source": [
    "## Imports\n",
    "Begin your body of content with another `---` divider before continuing into this section, then remove this body text and populate the following code cell with all necessary Python imports **up-front**:"
   ]
  },
  {
   "cell_type": "code",
   "execution_count": null,
   "metadata": {},
   "outputs": [],
   "source": [
    "import act\n",
    "from herbie import Herbie\n",
    "import cartopy.feature as cfeature\n",
    "import matplotlib.pyplot as plt\n",
    "import cartopy.crs as ccrs\n",
    "import numpy as np\n",
    "import xarray as xr\n",
    "import metpy.calc as mpcalc\n",
    "from metpy.units import units"
   ]
  },
  {
   "cell_type": "markdown",
   "metadata": {},
   "source": [
    "## Your first content section"
   ]
  },
  {
   "cell_type": "markdown",
   "metadata": {},
   "source": [
    "This is where you begin your first section of material, loosely tied to your objectives stated up front. Tie together your notebook as a narrative, with interspersed Markdown text, images, and more as necessary,"
   ]
  },
  {
   "cell_type": "code",
   "execution_count": null,
   "metadata": {},
   "outputs": [],
   "source": [
    "yr=input('Year (yyyy):')\n",
    "m=input('Month (mm):')\n",
    "dd=input('Day (dd):')\n",
    "H=[]\n",
    "date=(f'{yr}-{m}-{dd}')\n",
    "for a in range(0, 25):\n",
    "    H.append(Herbie(f\"{yr}-{m}-{dd}\",  # model run date\n",
    "        model=\"hrrr\",  # model name\n",
    "        product=\"prs\",\n",
    "        fxx=a,  # forecast lead time\n",
    "              ))"
   ]
  },
  {
   "cell_type": "code",
   "execution_count": null,
   "metadata": {},
   "outputs": [],
   "source": [
    "level = input(f'Enter level (surface, 850 mb, 500 mb, etc.):')\n",
    "ds=[]\n",
    "for a in range (0, 25):\n",
    "    ds.append(H[a].xarray(f\":{level}:\", remove_grib=False))\n",
    "    if level == str('surface'):\n",
    "        ds.append(ds[a][0])"
   ]
  },
  {
   "cell_type": "markdown",
   "metadata": {},
   "source": [
    "### A content subsection\n",
    "Divide and conquer your objectives with Markdown subsections, which will populate the helpful navbar in Jupyter Lab and here on the Jupyter Book!"
   ]
  },
  {
   "cell_type": "code",
   "execution_count": null,
   "metadata": {},
   "outputs": [],
   "source": [
    "# I want to find the speed at a certain lat/lon point.\n",
    "lat = [41.4456, 42.03, 41.2453]\n",
    "lon = [-71.4357, -70.049, -70.105]\n",
    "point_ds=[]\n",
    "for a in range(0, 25):\n",
    "    ds[a]['longitude'] = (ds[a]['longitude'] + 180) % 360 - 180\n",
    "    for b in range(0, 3):\n",
    "        # First, find the index of the grid point nearest a specific lat/lon.   \n",
    "        abslat = np.abs(ds[a].latitude-lat[b])\n",
    "        abslon = np.abs(ds[a].longitude-lon[b])\n",
    "        c = np.maximum(abslon, abslat)\n",
    "        ([yloc], [xloc]) = np.where(c == np.min(c))\n",
    "        # Now I can use that index location to get the values at the x/y diminsion\n",
    "        point_ds.append(ds[a].sel(x=xloc, y=yloc))"
   ]
  },
  {
   "cell_type": "code",
   "execution_count": null,
   "metadata": {},
   "outputs": [],
   "source": [
    "rhod_spd=[]\n",
    "caco_spd=[]\n",
    "sodar_spd=[]\n",
    "rhod_dir=[]\n",
    "caco_dir=[]\n",
    "sodar_dir=[]\n",
    "times=[]\n",
    "for d in range(0, 75, 3):\n",
    "    rhod_spd.append((mpcalc.wind_speed(point_ds[d].u.values * units.meter/units.second, point_ds[d].v.values * units.meter/units.second)).m)\n",
    "    caco_spd.append((mpcalc.wind_speed(point_ds[d+1].u.values * units.meter/units.second, point_ds[d+1].v.values * units.meter/units.second)).m)\n",
    "    sodar_spd.append((mpcalc.wind_speed(point_ds[d+2].u.values * units.meter/units.second, point_ds[d+2].v.values * units.meter/units.second)).m)\n",
    "    rhod_dir.append((mpcalc.wind_direction(point_ds[d].u.values * units.meter/units.second, point_ds[d].v.values * units.meter/units.second)).m)\n",
    "    caco_dir.append((mpcalc.wind_direction(point_ds[d+1].u.values * units.meter/units.second, point_ds[d+1].v.values * units.meter/units.second)).m)\n",
    "    sodar_dir.append((mpcalc.wind_direction(point_ds[d+2].u.values * units.meter/units.second, point_ds[d+2].v.values * units.meter/units.second)).m)\n",
    "    times.append(point_ds[d].valid_time.values)"
   ]
  },
  {
   "cell_type": "markdown",
   "metadata": {},
   "source": [
    "### Another content subsection\n",
    "Keep up the good work! A note, *try to avoid using code comments as narrative*, and instead let them only exist as brief clarifications where necessary."
   ]
  },
  {
   "cell_type": "code",
   "execution_count": null,
   "metadata": {},
   "outputs": [],
   "source": [
    "plt.figure(figsize=(15, 15))\n",
    "ax = plt.subplot(311)\n",
    "ax.plot(times, rhod_spd)\n",
    "ax.set_title(f'HRRR {level} Wind Speed at Rhode Island RWP site')\n",
    "ax.set_ylabel('Speed (m/s)')\n",
    "ax.set_xlabel('Time')\n",
    "ax = plt.subplot(312)\n",
    "ax.plot(times, caco_spd)\n",
    "ax.set_title(f'HRRR {level} Wind Speed at Cape Cod RWP site')\n",
    "ax.set_ylabel('Speed (m/s)')\n",
    "ax.set_xlabel('Time')\n",
    "ax = plt.subplot(313)\n",
    "ax.plot(times, sodar_spd)\n",
    "ax.set_title(f'HRRR {level} Wind Speed at SODAR site')\n",
    "ax.set_ylabel('Speed (m/s)')\n",
    "ax.set_xlabel('Time')"
   ]
  },
  {
   "cell_type": "code",
   "execution_count": null,
   "metadata": {},
   "outputs": [],
   "source": [
    "plt.figure(figsize=(15, 15))\n",
    "ax = plt.subplot(311)\n",
    "ax.plot(times, rhod_dir)\n",
    "ax.set_title(f'HRRR {level} Wind Direction at Rhode Island RWP site')\n",
    "ax.set_ylabel('Direction (deg)')\n",
    "ax.set_xlabel('Time')\n",
    "ax = plt.subplot(312)\n",
    "ax.plot(times, caco_dir)\n",
    "ax.set_title(f'HRRR {level} Wind Direction at Cape Cod RWP site')\n",
    "ax.set_ylabel('Direction (deg)')\n",
    "ax.set_xlabel('Time')\n",
    "ax = plt.subplot(313)\n",
    "ax.plot(times, sodar_dir)\n",
    "ax.set_title(f'HRRR {level} Wind Direction at SODAR site')\n",
    "ax.set_ylabel('Direction (deg)')\n",
    "ax.set_xlabel('Time')"
   ]
  },
  {
   "cell_type": "markdown",
   "metadata": {},
   "source": [
    "## Your second content section\n",
    "Here we can move on to our second objective, and we can demonstrate"
   ]
  },
  {
   "cell_type": "code",
   "execution_count": null,
   "metadata": {},
   "outputs": [],
   "source": [
    "#Read in the Rhode Island Data.\n",
    "ds1, ds2 = act.io.read_psl_wind_profiler(f\"../data/rhod-rwp-raw/rhod.rwp.z01.00.{yr}{m}{dd}.000000.winds.cns\", \n",
    "                                         transpose=False)\n",
    "#Read in the Cape Cod data.\n",
    "ds3, ds4 = act.io.read_psl_wind_profiler(f\"../data/caco-rwp-raw/caco.rwp.z01.00.{yr}{m}{dd}.000000.winds.cns\", \n",
    "                                         transpose=False)\n",
    "# Call the read_sodar function.\n",
    "# More information on the sodar can be found here:\n",
    "# https://www.scintec.com/products/flat-array-sodar-mfas/\n",
    "ds5 = act.io.read_mfas_sodar(f'../data/nant-sodar-raw/nant.sodar.z01.00.{yr}{m}{dd}.000000.mnd')"
   ]
  },
  {
   "cell_type": "markdown",
   "metadata": {},
   "source": [
    "### Subsection to the second section\n",
    "\n",
    "#### a quick demonstration\n",
    "\n",
    "##### of further and further\n",
    "\n",
    "###### header levels"
   ]
  },
  {
   "cell_type": "code",
   "execution_count": null,
   "metadata": {},
   "outputs": [],
   "source": [
    "ds1_hub_height=ds1.sel(HT=0.103)\n",
    "ds3_hub_height=ds3.sel(HT=0.137)\n",
    "ds5_hub_height=ds5.sel(height = 120)\n",
    "plt.figure(1, figsize=(12, 15))\n",
    "ax=plt.subplot(311)\n",
    "ax.plot(ds1_hub_height.time, ds1_hub_height.SPD)\n",
    "ax.set_title(f'Obs Wind Speed at Rhode Island RWP site')\n",
    "ax.set_ylabel('Speed (m/s)')\n",
    "ax.set_xlabel('Time')\n",
    "ax = plt.subplot(312)\n",
    "ax.plot(ds3_hub_height.time, ds3_hub_height.SPD)\n",
    "ax.set_title(f'Obs Wind Speed at Cape Cod RWP site')\n",
    "ax.set_ylabel('Speed (m/s)')\n",
    "ax.set_xlabel('Time')\n",
    "ax = plt.subplot(313)\n",
    "ax. plot(ds5_hub_height.time, ds5_hub_height.speed)\n",
    "ax.set_title(f'Obs Wind Speed at SODAR site')\n",
    "ax.set_ylabel('Speed (m/s)')\n",
    "ax.set_xlabel('Time')\n",
    "plt.savefig(f'../../../Downloads/{yr}{m}{dd}_Obsspd.png', bbox_inches='tight', dpi=150)"
   ]
  },
  {
   "cell_type": "code",
   "execution_count": null,
   "metadata": {},
   "outputs": [],
   "source": [
    "plt.figure(1, figsize=(12, 15))\n",
    "ax=plt.subplot(311)\n",
    "ax.plot(ds1_hub_height.time, ds1_hub_height.DIR)\n",
    "ax.set_title(f'Obs Wind Direction at Rhode Island RWP site')\n",
    "ax.set_ylabel('Direction (deg)')\n",
    "ax.set_xlabel('Time')\n",
    "ax = plt.subplot(312)\n",
    "ax.plot(ds3_hub_height.time, ds3_hub_height.DIR)\n",
    "ax.set_title(f'Obs Wind Direction at Cape Cod RWP site')\n",
    "ax.set_ylabel('Direction (deg)')\n",
    "ax.set_xlabel('Time')\n",
    "ax = plt.subplot(313)\n",
    "ax.plot(ds5_hub_height.time, ds5_hub_height.dir)\n",
    "ax.set_title(f'Obs Wind Direction at SODAR site')\n",
    "ax.set_ylabel('Direction (deg)')\n",
    "ax.set_xlabel('Time')\n",
    "plt.savefig(f'../../../Downloads/{yr}{m}{dd}_Obsdir.png', bbox_inches='tight', dpi=150)"
   ]
  },
  {
   "cell_type": "markdown",
   "metadata": {},
   "source": [
    "as well $m = a * t / h$ text! Similarly, you have access to other $\\LaTeX$ equation [**functionality**](https://jupyter-notebook.readthedocs.io/en/stable/examples/Notebook/Typesetting%20Equations.html) via MathJax (demo below from link),\n",
    "\n",
    "\\begin{align}\n",
    "\\dot{x} & = \\sigma(y-x) \\\\\n",
    "\\dot{y} & = \\rho x - y - xz \\\\\n",
    "\\dot{z} & = -\\beta z + xy\n",
    "\\end{align}"
   ]
  },
  {
   "cell_type": "markdown",
   "metadata": {},
   "source": [
    "Check out [**any number of helpful Markdown resources**](https://www.markdownguide.org/basic-syntax/) for further customizing your notebooks and the [**Jupyter docs**](https://jupyter-notebook.readthedocs.io/en/stable/examples/Notebook/Working%20With%20Markdown%20Cells.html) for Jupyter-specific formatting information. Don't hesitate to ask questions if you have problems getting it to look *just right*."
   ]
  },
  {
   "cell_type": "markdown",
   "metadata": {},
   "source": [
    "## Last Section\n",
    "\n",
    "If you're comfortable, and as we briefly used for our embedded logo up top, you can embed raw html into Jupyter Markdown cells (edit to see):"
   ]
  },
  {
   "cell_type": "code",
   "execution_count": null,
   "metadata": {},
   "outputs": [],
   "source": [
    "plt.figure(1, figsize=(12,15))\n",
    "ax=plt.subplot(311)\n",
    "ax.plot(ds1_hub_height.time, ds1_hub_height.SPD, color='red')\n",
    "ax.plot(times, rhod_spd)\n",
    "ax.set_title(f'Compared Wind Speed at Rhode Island RWP site')\n",
    "ax.set_ylabel('Speed (m/s)')\n",
    "ax.set_xlabel('Time')\n",
    "ax=plt.subplot(312)\n",
    "ax.plot(ds3_hub_height.time, ds3_hub_height.SPD, color='red')\n",
    "ax.plot(times, caco_spd)\n",
    "ax.set_title(f'Compared Wind Speed at Cape Cod RWP site')\n",
    "ax.set_ylabel('Speed (m/s)')\n",
    "ax.set_xlabel('Time')\n",
    "ax=plt.subplot(313)\n",
    "ax.plot(ds5_hub_height.time, ds5_hub_height.speed, color='red')\n",
    "ax.plot(times, sodar_spd)\n",
    "ax.set_title(f'Compared Wind Speed at SODAR site')\n",
    "ax.set_ylabel('Speed (m/s)')\n",
    "ax.set_xlabel('Time')\n",
    "plt.savefig(f'../../../Downloads/{yr}{m}{dd}_Comparisonspd.png', bbox_inches='tight', dpi=150)"
   ]
  },
  {
   "cell_type": "code",
   "execution_count": null,
   "metadata": {},
   "outputs": [],
   "source": [
    "plt.figure(1, figsize=(12,15))\n",
    "ax=plt.subplot(311)\n",
    "ax.plot(ds1_hub_height.time, ds1_hub_height.DIR, color='red')\n",
    "ax.plot(times, rhod_dir)\n",
    "ax.set_title(f'Compared Wind Direction at Rhode Island RWP site')\n",
    "ax.set_ylabel('Direction (deg)')\n",
    "ax.set_xlabel('Time')\n",
    "ax=plt.subplot(312)\n",
    "ax.plot(ds3_hub_height.time, ds3_hub_height.DIR, color='red')\n",
    "ax.plot(times, caco_dir)\n",
    "ax.set_title(f'Compared Wind Direction at Cape Cod RWP site')\n",
    "ax.set_ylabel('Direction (deg)')\n",
    "ax.set_xlabel('Time')\n",
    "ax=plt.subplot(313)\n",
    "ax.plot(ds5_hub_height.time, ds5_hub_height.dir, color='red')\n",
    "ax.plot(times, sodar_dir)\n",
    "ax.set_title(f'Compared Wind Direction at SODAR site')\n",
    "ax.set_ylabel('Direction (deg)')\n",
    "ax.set_xlabel('Time')\n",
    "plt.savefig(f'../../../Downloads/{yr}{m}{dd}_Comparisondir.png', bbox_inches='tight', dpi=150)"
   ]
  },
  {
   "cell_type": "markdown",
   "metadata": {},
   "source": [
    "<div class=\"admonition alert alert-info\">\n",
    "    <p class=\"admonition-title\" style=\"font-weight:bold\">Info</p>\n",
    "    Your relevant information here!\n",
    "</div>"
   ]
  },
  {
   "cell_type": "markdown",
   "metadata": {},
   "source": [
    "Feel free to copy this around and edit or play around with yourself. Some other `admonitions` you can put in:"
   ]
  },
  {
   "cell_type": "markdown",
   "metadata": {},
   "source": [
    "<div class=\"admonition alert alert-success\">\n",
    "    <p class=\"admonition-title\" style=\"font-weight:bold\">Success</p>\n",
    "    We got this done after all!\n",
    "</div>"
   ]
  },
  {
   "cell_type": "markdown",
   "metadata": {},
   "source": [
    "<div class=\"admonition alert alert-warning\">\n",
    "    <p class=\"admonition-title\" style=\"font-weight:bold\">Warning</p>\n",
    "    Be careful!\n",
    "</div>"
   ]
  },
  {
   "cell_type": "markdown",
   "metadata": {},
   "source": [
    "<div class=\"admonition alert alert-danger\">\n",
    "    <p class=\"admonition-title\" style=\"font-weight:bold\">Danger</p>\n",
    "    Scary stuff be here.\n",
    "</div>"
   ]
  },
  {
   "cell_type": "markdown",
   "metadata": {},
   "source": [
    "We also suggest checking out Jupyter Book's [brief demonstration](https://jupyterbook.org/content/metadata.html#jupyter-cell-tags) on adding cell tags to your cells in Jupyter Notebook, Lab, or manually. Using these cell tags can allow you to [customize](https://jupyterbook.org/interactive/hiding.html) how your code content is displayed and even [demonstrate errors](https://jupyterbook.org/content/execute.html#dealing-with-code-that-raises-errors) without altogether crashing our loyal army of machines!"
   ]
  },
  {
   "cell_type": "markdown",
   "metadata": {},
   "source": [
    "---"
   ]
  },
  {
   "cell_type": "markdown",
   "metadata": {},
   "source": [
    "## Summary\n",
    "Add one final `---` marking the end of your body of content, and then conclude with a brief single paragraph summarizing at a high level the key pieces that were learned and how they tied to your objectives. Look to reiterate what the most important takeaways were.\n",
    "\n",
    "### What's next?\n",
    "Let Jupyter book tie this to the next (sequential) piece of content that people could move on to down below and in the sidebar. However, if this page uniquely enables your reader to tackle other nonsequential concepts throughout this book, or even external content, link to it here!"
   ]
  },
  {
   "cell_type": "markdown",
   "metadata": {},
   "source": [
    "## Resources and references\n",
    "Finally, be rigorous in your citations and references as necessary. Give credit where credit is due. Also, feel free to link to relevant external material, further reading, documentation, etc. Then you're done! Give yourself a quick review, a high five, and send us a pull request. A few final notes:\n",
    " - `Kernel > Restart Kernel and Run All Cells...` to confirm that your notebook will cleanly run from start to finish\n",
    " - `Kernel > Restart Kernel and Clear All Outputs...` before committing your notebook, our machines will do the heavy lifting\n",
    " - Take credit! Provide author contact information if you'd like; if so, consider adding information here at the bottom of your notebook\n",
    " - Give credit! Attribute appropriate authorship for referenced code, information, images, etc.\n",
    " - Only include what you're legally allowed: **no copyright infringement or plagiarism**\n",
    " \n",
    "Thank you for your contribution!"
   ]
  }
 ],
 "metadata": {
  "kernelspec": {
   "display_name": "Python 3 (ipykernel)",
   "language": "python",
   "name": "python3"
  },
  "language_info": {
   "codemirror_mode": {
    "name": "ipython",
    "version": 3
   },
   "file_extension": ".py",
   "mimetype": "text/x-python",
   "name": "python",
   "nbconvert_exporter": "python",
   "pygments_lexer": "ipython3",
   "version": "3.12.3"
  },
  "nbdime-conflicts": {
   "local_diff": [
    {
     "diff": [
      {
       "diff": [
        {
         "key": 0,
         "op": "addrange",
         "valuelist": [
          "Python 3"
         ]
        },
        {
         "key": 0,
         "length": 1,
         "op": "removerange"
        }
       ],
       "key": "display_name",
       "op": "patch"
      }
     ],
     "key": "kernelspec",
     "op": "patch"
    }
   ],
   "remote_diff": [
    {
     "diff": [
      {
       "diff": [
        {
         "key": 0,
         "op": "addrange",
         "valuelist": [
          "Python3"
         ]
        },
        {
         "key": 0,
         "length": 1,
         "op": "removerange"
        }
       ],
       "key": "display_name",
       "op": "patch"
      }
     ],
     "key": "kernelspec",
     "op": "patch"
    }
   ]
  },
  "toc-autonumbering": false
 },
 "nbformat": 4,
 "nbformat_minor": 4
}
