{
 "cells": [
  {
   "cell_type": "markdown",
   "id": "25410b9f-3bc8-4002-b5fd-a50cfd406475",
   "metadata": {},
   "source": [
    "# Visualizing HRRR Model Data Over a General Area Using Herbie\n",
    "In this notebook we will download and plot HRRR wind data for the wind profiler and sodar sites."
   ]
  },
  {
   "cell_type": "code",
   "execution_count": null,
   "id": "5e541b16-68bc-405c-a502-124e725f7fcb",
   "metadata": {},
   "outputs": [],
   "source": [
    "#Import Modules\n",
    "from herbie import Herbie\n",
    "import cartopy.feature as cfeature\n",
    "import matplotlib.pyplot as plt\n",
    "import cartopy.crs as ccrs\n",
    "import numpy as np\n",
    "import metpy.calc as mpcalc\n",
    "from metpy.units import units"
   ]
  },
  {
   "cell_type": "markdown",
   "id": "21c29f04-7804-4e90-9b09-7cb98aa82d00",
   "metadata": {},
   "source": [
    "### Downloading the Data\n",
    "Here you can input the date and pressure level and get the full 48-hour HRRR forecast for that day."
   ]
  },
  {
   "cell_type": "code",
   "execution_count": null,
   "id": "466dc9d5-832d-434a-a2c4-05087712b9cb",
   "metadata": {},
   "outputs": [],
   "source": [
    "yr=input('Year (yyyy):')\n",
    "m=input('Month (mm):')\n",
    "d=input('Day (dd):')\n",
    "date=(f'{yr}-{m}-{d}')\n",
    "level = input(f'Enter level (surface, 1000 mb, 925 mb, 850 mb, etc.):')\n",
    "H=[]\n",
    "ds=[]\n",
    "for a in range(0, 49):\n",
    "    H.append(Herbie(f\"{yr}-{m}-{d}\",  # model run date\n",
    "        model=\"hrrr\",  # model name\n",
    "        product=\"prs\", #product\n",
    "        fxx=a,  # forecast lead time\n",
    "              ))\n",
    "    ds.append(H[a].xarray(f\":{level}:\", remove_grib=False))\n",
    "    if level == str('surface'):\n",
    "        ds.append(ds[a][0])"
   ]
  },
  {
   "cell_type": "markdown",
   "id": "b6ca3712-acbe-4f58-b66b-cc42324a98dc",
   "metadata": {},
   "source": [
    "# Plot the Data\n",
    "Here we will plot the data for the area surrounding the three sites, which are denoted by the black stars."
   ]
  },
  {
   "cell_type": "code",
   "execution_count": null,
   "id": "a1c6f293",
   "metadata": {
    "scrolled": true
   },
   "outputs": [],
   "source": [
    "#Coordinates:\n",
    "#RI: 41.4456, -71.4357\n",
    "#CC: 42.03, -70.049\n",
    "#Sodar: 41.2453, -70.105\n",
    "for a in range(0, 49):\n",
    "    plt.figure(1, figsize=(15, 15))\n",
    "    ax = plt.subplot(111, projection=ccrs.PlateCarree())\n",
    "    ax.set_extent([-69.5, -72, 42.5, 41]), ccrs.PlateCarree() \n",
    "    cf = ax.contourf(ds[0].longitude, ds[0].latitude, \n",
    "                     (mpcalc.wind_speed(ds[a].u.values*units.meter/units.second, \n",
    "                                        ds[a].v.values*units.meter/units.second)).m, \n",
    "                     np.arange(-5, 25, 0.5), cmap=plt.cm.BuPu)\n",
    "    plt.colorbar(cf, orientation='horizontal', pad=0, aspect=50)\n",
    "    ax.add_feature(cfeature.COASTLINE.with_scale('50m'))\n",
    "    ax.add_feature(cfeature.STATES.with_scale('50m'))\n",
    "    ax.scatter(-71.4357, 41.4456, 400, marker='*', color='black', transform=ccrs.PlateCarree())\n",
    "    ax.scatter(-70.049, 42.03, 400, marker='*', color='black', transform=ccrs.PlateCarree())\n",
    "    ax.scatter(-70.105, 41.2453, 400, marker='*', color='black', transform=ccrs.PlateCarree())\n",
    "    plt.title(f'Time: {date} FH {a}   HRRR Wind Speed at {level}')\n",
    "    plt.show()"
   ]
  },
  {
   "cell_type": "code",
   "execution_count": null,
   "id": "bc7e4244-0b4b-43f1-9272-8c2c86aa209d",
   "metadata": {},
   "outputs": [],
   "source": [
    "# I want to find the speed at a certain lat/lon point.\n",
    "lat = [41.4456, 42.03, 41.2453]\n",
    "lon = [-71.4357, -70.049, -70.105]\n",
    "point_ds=[]\n",
    "for a in range(0, 25):\n",
    "    ds[a]['longitude'] = (ds[a]['longitude'] + 180) % 360 - 180\n",
    "    for b in range(0, 3):\n",
    "        # First, find the index of the grid point nearest a specific lat/lon.   \n",
    "        abslat = np.abs(ds[a].latitude-lat[b])\n",
    "        abslon = np.abs(ds[a].longitude-lon[b])\n",
    "        c = np.maximum(abslon, abslat)\n",
    "        ([yloc], [xloc]) = np.where(c == np.min(c))\n",
    "        # Now I can use that index location to get the values at the x/y diminsion\n",
    "        point_ds.append(ds[a].sel(x=xloc, y=yloc))"
   ]
  },
  {
   "cell_type": "markdown",
   "id": "335f5388-29dc-47e5-bd1c-4ce135b3263e",
   "metadata": {},
   "source": [
    "Next we calculate the wind speed and direction for each site using the u and v wind components."
   ]
  },
  {
   "cell_type": "code",
   "execution_count": null,
   "id": "1c80d93b-8622-4aa2-9ada-d6a1260522d1",
   "metadata": {},
   "outputs": [],
   "source": [
    "rhod_spd=[]\n",
    "caco_spd=[]\n",
    "sodar_spd=[]\n",
    "rhod_dir=[]\n",
    "caco_dir=[]\n",
    "sodar_dir=[]\n",
    "times=[]\n",
    "for d in range(0, 75, 3):\n",
    "    rhod_spd.append((mpcalc.wind_speed(point_ds[d].u.values * units.meter/units.second, point_ds[d].v.values * units.meter/units.second)).m)\n",
    "    caco_spd.append((mpcalc.wind_speed(point_ds[d+1].u.values * units.meter/units.second, point_ds[d+1].v.values * units.meter/units.second)).m)\n",
    "    sodar_spd.append((mpcalc.wind_speed(point_ds[d+2].u.values * units.meter/units.second, point_ds[d+2].v.values * units.meter/units.second)).m)\n",
    "    rhod_dir.append((mpcalc.wind_direction(point_ds[d].u.values * units.meter/units.second, point_ds[d].v.values * units.meter/units.second)).m)\n",
    "    caco_dir.append((mpcalc.wind_direction(point_ds[d+1].u.values * units.meter/units.second, point_ds[d+1].v.values * units.meter/units.second)).m)\n",
    "    sodar_dir.append((mpcalc.wind_direction(point_ds[d+2].u.values * units.meter/units.second, point_ds[d+2].v.values * units.meter/units.second)).m)\n",
    "    times.append(point_ds[d].valid_time.values)"
   ]
  },
  {
   "cell_type": "code",
   "execution_count": null,
   "id": "97213941-2900-4a2d-a27d-7b9d9393b7d4",
   "metadata": {},
   "outputs": [],
   "source": [
    "plt.figure(figsize=(15, 15))\n",
    "ax = plt.subplot(311)\n",
    "ax.plot(times, rhod_spd)\n",
    "ax.set_title(f'HRRR {level} Wind Speed at Rhode Island RWP site')\n",
    "ax.set_ylabel('Speed (m/s)')\n",
    "ax.set_xlabel('Time')\n",
    "ax = plt.subplot(312)\n",
    "ax.plot(times, caco_spd)\n",
    "ax.set_title(f'HRRR {level} Wind Speed at Cape Cod RWP site')\n",
    "ax.set_ylabel('Speed (m/s)')\n",
    "ax.set_xlabel('Time')\n",
    "ax = plt.subplot(313)\n",
    "ax.plot(times, sodar_spd)\n",
    "ax.set_title(f'HRRR {level} Wind Speed at SODAR site')\n",
    "ax.set_ylabel('Speed (m/s)')\n",
    "ax.set_xlabel('Time')"
   ]
  },
  {
   "cell_type": "code",
   "execution_count": null,
   "id": "011aecea-b329-455e-b679-2d7ea75600a1",
   "metadata": {},
   "outputs": [],
   "source": [
    "plt.figure(figsize=(15, 15))\n",
    "ax = plt.subplot(311)\n",
    "ax.plot(times, rhod_dir)\n",
    "ax.set_title(f'HRRR {level} Wind Direction at Rhode Island RWP site')\n",
    "ax.set_ylabel('Direction (deg)')\n",
    "ax.set_xlabel('Time')\n",
    "ax = plt.subplot(312)\n",
    "ax.plot(times, caco_dir)\n",
    "ax.set_title(f'HRRR {level} Wind Direction at Cape Cod RWP site')\n",
    "ax.set_ylabel('Direction (deg)')\n",
    "ax.set_xlabel('Time')\n",
    "ax = plt.subplot(313)\n",
    "ax.plot(times, sodar_dir)\n",
    "ax.set_title(f'HRRR {level} Wind Direction at SODAR site')\n",
    "ax.set_ylabel('Direction (deg)')\n",
    "ax.set_xlabel('Time')"
   ]
  },
  {
   "cell_type": "code",
   "execution_count": null,
   "id": "0ac9023b-345b-4d24-a7dd-1ab645289a63",
   "metadata": {},
   "outputs": [],
   "source": []
  }
 ],
 "metadata": {
  "kernelspec": {
   "display_name": "Python 3 (ipykernel)",
   "language": "python",
   "name": "python3"
  },
  "language_info": {
   "codemirror_mode": {
    "name": "ipython",
    "version": 3
   },
   "file_extension": ".py",
   "mimetype": "text/x-python",
   "name": "python",
   "nbconvert_exporter": "python",
   "pygments_lexer": "ipython3",
   "version": "3.12.3"
  }
 },
 "nbformat": 4,
 "nbformat_minor": 5
}
